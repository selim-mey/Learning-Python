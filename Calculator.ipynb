{
 "cells": [
  {
   "cell_type": "code",
   "execution_count": 3,
   "metadata": {},
   "outputs": [
    {
     "name": "stdout",
     "output_type": "stream",
     "text": [
      "4\n"
     ]
    }
   ],
   "source": []
  },
  {
   "cell_type": "code",
   "execution_count": null,
   "metadata": {},
   "outputs": [],
   "source": []
  },
  {
   "cell_type": "markdown",
   "metadata": {},
   "source": []
  },
  {
   "cell_type": "code",
   "execution_count": 3,
   "metadata": {},
   "outputs": [
    {
     "name": "stdout",
     "output_type": "stream",
     "text": [
      "operation:add\n",
      "first number:6\n",
      "second number:2384\n",
      "third number:925\n",
      "3315\n"
     ]
    }
   ],
   "source": [
    "operation = input(\"operation:\")\n",
    "\n",
    "number1 = int(input(\"first number:\"))\n",
    "number2 = int(input(\"second number:\"))\n",
    "number3 = int(input(\"third number:\"))\n",
    "\n",
    "def calculate(operation, number1, number2, number3):\n",
    "    if operation == \"add\":\n",
    "        return number1 + number2 + number3\n",
    "\n",
    "    elif operation == \"addition\":\n",
    "        return number1 + number2 + number3\n",
    "    \n",
    "    elif operation == \"plus\":\n",
    "        return number1 + number2 + number3\n",
    "\n",
    "    elif operation == \"subtract\":\n",
    "        return number1 - number2 - number3\n",
    "\n",
    "    elif operation == \"subtraction\":\n",
    "        return number1 - number2 - number3\n",
    "    \n",
    "    elif operation == \"minus\":\n",
    "        return number1 - number2 - number3\n",
    "\n",
    "    elif operation == \"multiply\":\n",
    "        return number1 * number2 * number3\n",
    "\n",
    "    elif operation == \"multiplication\":\n",
    "        return number1 * number2 * number3\n",
    "\n",
    "    elif operation == \"divide\":\n",
    "        return number1 / number2\n",
    "\n",
    "    elif operation == \"division\":\n",
    "        return number1 / number2\n",
    "\n",
    "print(calculate(operation, number1, number2, number3))"
   ]
  },
  {
   "cell_type": "markdown",
   "metadata": {},
   "source": [
    "# "
   ]
  }
 ],
 "metadata": {
  "kernelspec": {
   "display_name": "Python 3",
   "language": "python",
   "name": "python3"
  },
  "language_info": {
   "codemirror_mode": {
    "name": "ipython",
    "version": 3
   },
   "file_extension": ".py",
   "mimetype": "text/x-python",
   "name": "python",
   "nbconvert_exporter": "python",
   "pygments_lexer": "ipython3",
   "version": "3.6.5"
  }
 },
 "nbformat": 4,
 "nbformat_minor": 2
}
