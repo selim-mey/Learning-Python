{
 "cells": [
  {
   "cell_type": "code",
   "execution_count": 12,
   "metadata": {},
   "outputs": [
    {
     "name": "stdout",
     "output_type": "stream",
     "text": [
      "your biggest number: 5\n",
      "[-7, -4, 1, 5]\n",
      "[]\n",
      "[-4, 1, 5]\n",
      "[-7]\n",
      "[-4, 1, 5]\n",
      "[-7]\n",
      "[1, 5]\n",
      "[-7, -4]\n",
      "[1, 5]\n",
      "[-7, -4]\n",
      "[5]\n",
      "[-7, -4, 1]\n",
      "[5]\n",
      "[-7, -4, 1]\n",
      "[]\n",
      "[-7, -4, 1, 5]\n"
     ]
    }
   ],
   "source": [
    "myArray = [-7,-4,1,5]\n",
    "biggestNo = int(input(\"your biggest number: \"))\n",
    "\n",
    "sortedArray = []\n",
    "\n",
    "for i in range(0,4):\n",
    "    smallestNo = biggestNo\n",
    "    \n",
    "    for a in myArray:\n",
    "        if a <= smallestNo:\n",
    "            smallestNo = a\n",
    "                           \n",
    "    sortedArray.append(smallestNo)\n",
    "    myArray.remove(smallestNo)\n",
    "\n",
    "    print(myArray)\n",
    "    print(sortedArray)"
   ]
  },
  {
   "cell_type": "code",
   "execution_count": null,
   "metadata": {},
   "outputs": [],
   "source": []
  },
  {
   "cell_type": "code",
   "execution_count": null,
   "metadata": {},
   "outputs": [],
   "source": []
  }
 ],
 "metadata": {
  "kernelspec": {
   "display_name": "Python 3",
   "language": "python",
   "name": "python3"
  },
  "language_info": {
   "codemirror_mode": {
    "name": "ipython",
    "version": 3
   },
   "file_extension": ".py",
   "mimetype": "text/x-python",
   "name": "python",
   "nbconvert_exporter": "python",
   "pygments_lexer": "ipython3",
   "version": "3.6.5"
  }
 },
 "nbformat": 4,
 "nbformat_minor": 2
}
